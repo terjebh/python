{
 "cells": [
  {
   "cell_type": "code",
   "execution_count": 7,
   "id": "6eb8454d",
   "metadata": {},
   "outputs": [
    {
     "name": "stdout",
     "output_type": "stream",
     "text": [
      "tall 1: 0.06239796151495358\n",
      "tall 2: 0.06577259458227136\n",
      "Terningkast 1: 2\n",
      "Terningkast 2: 3\n",
      "Terningkast 3: 1\n",
      "Terningkast 4: 2\n",
      "Terningkast 5: 6\n",
      "Terningkast 6: 5\n"
     ]
    }
   ],
   "source": [
    "import numpy as np\n",
    "\n",
    "for i in range(1,3):\n",
    "    print(\"tall \"+ str(i) + \": \" + str(np.random.rand()))\n",
    "   \n",
    "for i in range(1,7):\n",
    "    print(f\"Terningkast {i}: {np.random.randint(1,7)}\") "
   ]
  },
  {
   "cell_type": "code",
   "execution_count": null,
   "id": "83c3ba1c",
   "metadata": {},
   "outputs": [],
   "source": []
  },
  {
   "cell_type": "code",
   "execution_count": null,
   "id": "f1ddff34",
   "metadata": {},
   "outputs": [],
   "source": []
  }
 ],
 "metadata": {
  "kernelspec": {
   "display_name": "Python 3 (ipykernel)",
   "language": "python",
   "name": "python3"
  },
  "language_info": {
   "codemirror_mode": {
    "name": "ipython",
    "version": 3
   },
   "file_extension": ".py",
   "mimetype": "text/x-python",
   "name": "python",
   "nbconvert_exporter": "python",
   "pygments_lexer": "ipython3",
   "version": "3.10.4"
  }
 },
 "nbformat": 4,
 "nbformat_minor": 5
}
